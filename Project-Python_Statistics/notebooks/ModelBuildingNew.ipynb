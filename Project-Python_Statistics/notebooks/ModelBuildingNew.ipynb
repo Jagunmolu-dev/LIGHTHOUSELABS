{
 "cells": [
  {
   "cell_type": "markdown",
   "metadata": {},
   "source": [
    "Build a regression model."
   ]
  },
  {
   "cell_type": "code",
   "execution_count": 2,
   "metadata": {},
   "outputs": [],
   "source": [
    "# imports\n",
    "import pandas as pd\n",
    "import numpy as np\n",
    "import seaborn as sns\n",
    "import matplotlib.pyplot as plt\n",
    "import statsmodels.api as sm\n",
    "import warnings\n",
    "warnings.filterwarnings(\"ignore\")\n",
    "\n",
    "# load data from part 1 and 2 into dataframes\n",
    "city_bikes = pd.read_csv('citybike.csv')\n",
    "fsq0_df = pd.read_csv('fsq_df_0.csv')\n",
    "fsq1_df = pd.read_csv('fsq_df_1.csv')\n",
    "fsq2_df = pd.read_csv('fsq_df_2.csv')\n",
    "fsq3_df = pd.read_csv('fsq_df_3.csv')\n",
    "fsq4_df = pd.read_csv('fsq_df_4.csv')\n",
    "fsq5_df = pd.read_csv('fsq_df_5.csv')\n",
    "yelp0_df = pd.read_csv('yelp_df_0.csv')\n",
    "yelp1_df = pd.read_csv('yelp_df_1.csv')\n",
    "yelp2_df = pd.read_csv('yelp_df_2.csv')\n",
    "yelp3_df = pd.read_csv('yelp_df_3.csv')\n",
    "yelp4_df = pd.read_csv('yelp_df_4.csv')\n",
    "yelp5_df = pd.read_csv('yelp_df_5.csv')"
   ]
  },
  {
   "cell_type": "code",
   "execution_count": 3,
   "metadata": {},
   "outputs": [],
   "source": [
    "# creating variable for the additional colums to be added\n",
    "a = fsq0_df['rating'].mean()\n",
    "b = fsq1_df['rating'].mean()\n",
    "c = fsq2_df['rating'].mean()\n",
    "d = fsq3_df['rating'].mean()\n",
    "e = fsq4_df['rating'].mean()\n",
    "f = fsq5_df['rating'].mean()\n",
    "\n",
    "\n",
    "g = yelp0_df['rating'].mean()\n",
    "h = yelp1_df['rating'].mean()\n",
    "i = yelp2_df['rating'].mean()\n",
    "j = yelp3_df['rating'].mean()\n",
    "k = yelp4_df['rating'].mean()\n",
    "l = yelp5_df['rating'].mean()\n",
    "\n",
    "\n",
    "d0 = yelp0_df['distance'].mean()\n",
    "d1 = yelp1_df['distance'].mean()\n",
    "d2 = yelp2_df['distance'].mean()\n",
    "d3 = yelp3_df['distance'].mean()\n",
    "d4 = yelp4_df['distance'].mean()\n",
    "d5 = yelp5_df['distance'].mean()"
   ]
  },
  {
   "cell_type": "code",
   "execution_count": 4,
   "metadata": {},
   "outputs": [],
   "source": [
    "#Add the columns\n",
    "bikes =city_bikes.copy()\n",
    "bikes = bikes.drop('Unnamed: 0', axis = 1)\n",
    "bikes = bikes.head(6).copy()\n",
    "bikes['fsq_avg_rating(max = 10.0)'] = [a,b,c,d,e,f]\n",
    "bikes['yelp_avg_rating(max = 5.0)'] = [g,h,i,j,k,l]\n",
    "bikes['yelp_avg_distance'] = [d0,d1,d2,d3,d4,d5]"
   ]
  },
  {
   "cell_type": "code",
   "execution_count": 5,
   "metadata": {},
   "outputs": [],
   "source": [
    "# deop unwanted columns\n",
    "bikes = bikes.drop(['latitude', 'longitude', 'timestamp'], axis = 1)"
   ]
  },
  {
   "cell_type": "code",
   "execution_count": 6,
   "metadata": {},
   "outputs": [
    {
     "data": {
      "text/html": [
       "<div>\n",
       "<style scoped>\n",
       "    .dataframe tbody tr th:only-of-type {\n",
       "        vertical-align: middle;\n",
       "    }\n",
       "\n",
       "    .dataframe tbody tr th {\n",
       "        vertical-align: top;\n",
       "    }\n",
       "\n",
       "    .dataframe thead th {\n",
       "        text-align: right;\n",
       "    }\n",
       "</style>\n",
       "<table border=\"1\" class=\"dataframe\">\n",
       "  <thead>\n",
       "    <tr style=\"text-align: right;\">\n",
       "      <th></th>\n",
       "      <th>empty_slots</th>\n",
       "      <th>free_bikes</th>\n",
       "      <th>name</th>\n",
       "      <th>fsq_avg_rating(max = 10.0)</th>\n",
       "      <th>yelp_avg_rating(max = 5.0)</th>\n",
       "      <th>yelp_avg_distance</th>\n",
       "    </tr>\n",
       "  </thead>\n",
       "  <tbody>\n",
       "    <tr>\n",
       "      <th>0</th>\n",
       "      <td>7</td>\n",
       "      <td>4</td>\n",
       "      <td>Clancy's Strand</td>\n",
       "      <td>7.875000</td>\n",
       "      <td>4.500</td>\n",
       "      <td>563.101144</td>\n",
       "    </tr>\n",
       "    <tr>\n",
       "      <th>1</th>\n",
       "      <td>13</td>\n",
       "      <td>8</td>\n",
       "      <td>Saint Mary's Cathedral</td>\n",
       "      <td>7.833333</td>\n",
       "      <td>4.525</td>\n",
       "      <td>527.862938</td>\n",
       "    </tr>\n",
       "    <tr>\n",
       "      <th>2</th>\n",
       "      <td>13</td>\n",
       "      <td>7</td>\n",
       "      <td>Island Road Junction</td>\n",
       "      <td>8.225000</td>\n",
       "      <td>4.500</td>\n",
       "      <td>661.294203</td>\n",
       "    </tr>\n",
       "    <tr>\n",
       "      <th>3</th>\n",
       "      <td>11</td>\n",
       "      <td>9</td>\n",
       "      <td>Abbey Bridge</td>\n",
       "      <td>8.092308</td>\n",
       "      <td>4.500</td>\n",
       "      <td>668.383128</td>\n",
       "    </tr>\n",
       "    <tr>\n",
       "      <th>4</th>\n",
       "      <td>6</td>\n",
       "      <td>10</td>\n",
       "      <td>O'Callaghan Strand</td>\n",
       "      <td>7.741176</td>\n",
       "      <td>4.475</td>\n",
       "      <td>458.928216</td>\n",
       "    </tr>\n",
       "    <tr>\n",
       "      <th>5</th>\n",
       "      <td>12</td>\n",
       "      <td>7</td>\n",
       "      <td>Bedford Row</td>\n",
       "      <td>7.640000</td>\n",
       "      <td>4.450</td>\n",
       "      <td>258.529453</td>\n",
       "    </tr>\n",
       "  </tbody>\n",
       "</table>\n",
       "</div>"
      ],
      "text/plain": [
       "   empty_slots  free_bikes                    name  \\\n",
       "0            7           4         Clancy's Strand   \n",
       "1           13           8  Saint Mary's Cathedral   \n",
       "2           13           7    Island Road Junction   \n",
       "3           11           9            Abbey Bridge   \n",
       "4            6          10      O'Callaghan Strand   \n",
       "5           12           7             Bedford Row   \n",
       "\n",
       "   fsq_avg_rating(max = 10.0)  yelp_avg_rating(max = 5.0)  yelp_avg_distance  \n",
       "0                    7.875000                       4.500         563.101144  \n",
       "1                    7.833333                       4.525         527.862938  \n",
       "2                    8.225000                       4.500         661.294203  \n",
       "3                    8.092308                       4.500         668.383128  \n",
       "4                    7.741176                       4.475         458.928216  \n",
       "5                    7.640000                       4.450         258.529453  "
      ]
     },
     "execution_count": 6,
     "metadata": {},
     "output_type": "execute_result"
    }
   ],
   "source": [
    "bikes"
   ]
  },
  {
   "cell_type": "code",
   "execution_count": null,
   "metadata": {},
   "outputs": [],
   "source": []
  },
  {
   "cell_type": "code",
   "execution_count": 7,
   "metadata": {},
   "outputs": [],
   "source": [
    "cols = [yelp0_df, yelp1_df, yelp2_df, yelp3_df, yelp4_df, yelp5_df]\n",
    "yelp = pd.concat(cols, axis = 0, ignore_index = True)"
   ]
  },
  {
   "cell_type": "code",
   "execution_count": 8,
   "metadata": {},
   "outputs": [
    {
     "data": {
      "text/html": [
       "<div>\n",
       "<style scoped>\n",
       "    .dataframe tbody tr th:only-of-type {\n",
       "        vertical-align: middle;\n",
       "    }\n",
       "\n",
       "    .dataframe tbody tr th {\n",
       "        vertical-align: top;\n",
       "    }\n",
       "\n",
       "    .dataframe thead th {\n",
       "        text-align: right;\n",
       "    }\n",
       "</style>\n",
       "<table border=\"1\" class=\"dataframe\">\n",
       "  <thead>\n",
       "    <tr style=\"text-align: right;\">\n",
       "      <th></th>\n",
       "      <th>title</th>\n",
       "      <th>rating</th>\n",
       "      <th>review_count</th>\n",
       "      <th>distance</th>\n",
       "    </tr>\n",
       "  </thead>\n",
       "  <tbody>\n",
       "    <tr>\n",
       "      <th>0</th>\n",
       "      <td>Seafood</td>\n",
       "      <td>4.5</td>\n",
       "      <td>112</td>\n",
       "      <td>23.046412</td>\n",
       "    </tr>\n",
       "    <tr>\n",
       "      <th>1</th>\n",
       "      <td>Bars</td>\n",
       "      <td>4.5</td>\n",
       "      <td>158</td>\n",
       "      <td>442.238144</td>\n",
       "    </tr>\n",
       "    <tr>\n",
       "      <th>2</th>\n",
       "      <td>Irish Pub</td>\n",
       "      <td>5.0</td>\n",
       "      <td>16</td>\n",
       "      <td>252.343096</td>\n",
       "    </tr>\n",
       "    <tr>\n",
       "      <th>3</th>\n",
       "      <td>Asian Fusion</td>\n",
       "      <td>4.5</td>\n",
       "      <td>24</td>\n",
       "      <td>491.502548</td>\n",
       "    </tr>\n",
       "    <tr>\n",
       "      <th>4</th>\n",
       "      <td>Seafood</td>\n",
       "      <td>4.5</td>\n",
       "      <td>41</td>\n",
       "      <td>710.159997</td>\n",
       "    </tr>\n",
       "  </tbody>\n",
       "</table>\n",
       "</div>"
      ],
      "text/plain": [
       "          title  rating  review_count    distance\n",
       "0       Seafood     4.5           112   23.046412\n",
       "1          Bars     4.5           158  442.238144\n",
       "2     Irish Pub     5.0            16  252.343096\n",
       "3  Asian Fusion     4.5            24  491.502548\n",
       "4       Seafood     4.5            41  710.159997"
      ]
     },
     "execution_count": 8,
     "metadata": {},
     "output_type": "execute_result"
    }
   ],
   "source": [
    "yelp = yelp[['title', 'rating', 'review_count', 'distance']]\n",
    "yelp.head()"
   ]
  },
  {
   "cell_type": "code",
   "execution_count": null,
   "metadata": {},
   "outputs": [],
   "source": []
  },
  {
   "cell_type": "markdown",
   "metadata": {},
   "source": [
    "### Analyzing the different features and making interpretations"
   ]
  },
  {
   "cell_type": "code",
   "execution_count": 26,
   "metadata": {},
   "outputs": [],
   "source": [
    "from sklearn.linear_model import LinearRegression\n",
    "model = LinearRegression()\n",
    "# Analyzing data only from yelp api\n",
    "feature = ['empty_slots', 'yelp_avg_rating(max = 5.0)', 'yelp_avg_distance']\n",
    "target = ['free_bikes']"
   ]
  },
  {
   "cell_type": "code",
   "execution_count": 27,
   "metadata": {},
   "outputs": [
    {
     "data": {
      "text/plain": [
       "array([[ 4.87772998e-02, -1.85913725e+01,  2.17424376e-03]])"
      ]
     },
     "execution_count": 27,
     "metadata": {},
     "output_type": "execute_result"
    }
   ],
   "source": [
    "model.fit(bikes[feature], bikes[target])\n",
    "model.coef_\n",
    "# model.intercept_\n"
   ]
  },
  {
   "cell_type": "markdown",
   "metadata": {},
   "source": [
    "###### The above values for the coefficient does not give an actual representation because they are scaled differntly, so i scaled the features to match the ratings from 0 to 5"
   ]
  },
  {
   "cell_type": "code",
   "execution_count": 25,
   "metadata": {},
   "outputs": [
    {
     "data": {
      "text/plain": [
       "array([[ 0.06828822, -0.27887059,  0.17822436]])"
      ]
     },
     "execution_count": 25,
     "metadata": {},
     "output_type": "execute_result"
    }
   ],
   "source": [
    "from sklearn.preprocessing import MinMaxScaler\n",
    "scaler = MinMaxScaler(feature_range=(0, 5))\n",
    "scaled_X = scaler.fit_transform(bikes[feature])\n",
    "model.fit(scaled_X, bikes[target])\n",
    "model.coef_"
   ]
  },
  {
   "cell_type": "markdown",
   "metadata": {},
   "source": [
    "### From the above we can see that the coefficient of yelp_avg_distance of  0.17822436 is the most important feature in deciding the free bikes"
   ]
  },
  {
   "cell_type": "code",
   "execution_count": null,
   "metadata": {},
   "outputs": [],
   "source": []
  },
  {
   "cell_type": "code",
   "execution_count": null,
   "metadata": {},
   "outputs": [],
   "source": []
  },
  {
   "cell_type": "markdown",
   "metadata": {},
   "source": []
  },
  {
   "cell_type": "code",
   "execution_count": null,
   "metadata": {},
   "outputs": [],
   "source": []
  },
  {
   "cell_type": "code",
   "execution_count": 63,
   "metadata": {},
   "outputs": [],
   "source": []
  },
  {
   "cell_type": "code",
   "execution_count": 64,
   "metadata": {},
   "outputs": [],
   "source": []
  },
  {
   "cell_type": "code",
   "execution_count": 65,
   "metadata": {},
   "outputs": [],
   "source": []
  },
  {
   "cell_type": "code",
   "execution_count": null,
   "metadata": {},
   "outputs": [],
   "source": []
  },
  {
   "cell_type": "markdown",
   "metadata": {},
   "source": []
  },
  {
   "cell_type": "code",
   "execution_count": null,
   "metadata": {},
   "outputs": [],
   "source": []
  },
  {
   "cell_type": "markdown",
   "metadata": {},
   "source": []
  },
  {
   "cell_type": "code",
   "execution_count": null,
   "metadata": {},
   "outputs": [],
   "source": [
    "\n"
   ]
  },
  {
   "cell_type": "markdown",
   "metadata": {},
   "source": [
    "# Stretch"
   ]
  },
  {
   "cell_type": "markdown",
   "metadata": {},
   "source": [
    "How can you turn the regression model into a classification model?"
   ]
  },
  {
   "cell_type": "markdown",
   "metadata": {},
   "source": [
    "### \n",
    "To turn the above regression model into a classification model, you would need to redefine the problem and modify the approach. Regression models are used to predict continuous numerical values, while classification models are used to predict discrete categories or classes.\n",
    "\n",
    "Here are a few possible approaches to transforming the regression model into a classification model:\n",
    "\n",
    "Define threshold values: You can define threshold values for the dependent variable (empty_slots) and convert it into a binary classification problem. For example, you can set a threshold such as empty_slots <= 5 as the positive class (e.g., low availability) and empty_slots > 5 as the negative class (e.g., high availability). Then, you would use the independent variables (e.g., yelp_avg_rating, yelp_avg_distance) to predict the class labels using classification algorithms like logistic regression, decision trees, or random forests.\n",
    "\n",
    "Create categorical classes: Instead of using a binary classification approach, you can divide the range of the dependent variable (empty_slots) into multiple categories or classes. For example, you can create classes like \"low availability,\" \"medium availability,\" and \"high availability\" based on certain ranges of empty_slots values. Then, you would use the independent variables to predict the respective class labels using classification algorithms.\n",
    "\n",
    "One-vs-All (OvA) approach: If you have multiple categories or classes for the dependent variable (e.g., different types of availability levels), you can use the one-vs-all approach. In this approach, you would train multiple binary classification models, each one comparing one class against the rest. For example, you can have one model to predict \"low availability\" versus \"non-low availability,\" another model for \"medium availability\" versus \"non-medium availability,\" and so on.\n",
    "\n",
    "It's important to note that the specific approach to transforming the regression model into a classification model would depend on the nature of your data, the problem you are trying to solve, and the specific requirements of your classification task.\n"
   ]
  },
  {
   "cell_type": "code",
   "execution_count": null,
   "metadata": {},
   "outputs": [],
   "source": []
  }
 ],
 "metadata": {
  "kernelspec": {
   "display_name": "Python 3 (ipykernel)",
   "language": "python",
   "name": "python3"
  },
  "language_info": {
   "codemirror_mode": {
    "name": "ipython",
    "version": 3
   },
   "file_extension": ".py",
   "mimetype": "text/x-python",
   "name": "python",
   "nbconvert_exporter": "python",
   "pygments_lexer": "ipython3",
   "version": "3.9.13"
  }
 },
 "nbformat": 4,
 "nbformat_minor": 4
}
